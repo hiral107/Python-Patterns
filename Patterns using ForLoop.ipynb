{
 "cells": [
  {
   "cell_type": "code",
   "execution_count": 2,
   "id": "3b170bf4",
   "metadata": {},
   "outputs": [
    {
     "name": "stdout",
     "output_type": "stream",
     "text": [
      "Enter value:5\n",
      " *   *   *   *   *  \n",
      "\n",
      " *   *   *   *   *  \n",
      "\n",
      " *   *   *   *   *  \n",
      "\n",
      " *   *   *   *   *  \n",
      "\n",
      " *   *   *   *   *  \n",
      "\n"
     ]
    }
   ],
   "source": [
    "n = int(input(\"Enter value:\"))\n",
    "\n",
    "for i in range(n):\n",
    "    for j in range(n):\n",
    "        print(\" * \", end = \" \")\n",
    "    print(\"\\n\")"
   ]
  },
  {
   "cell_type": "code",
   "execution_count": 3,
   "id": "7b007960",
   "metadata": {},
   "outputs": [
    {
     "name": "stdout",
     "output_type": "stream",
     "text": [
      "Enter value:4\n",
      "1 \n",
      "\n",
      "2 2 \n",
      "\n",
      "3 3 3 \n",
      "\n",
      "4 4 4 4 \n",
      "\n"
     ]
    }
   ],
   "source": [
    "n = int(input(\"Enter value:\"))\n",
    "\n",
    "for i in range(n):\n",
    "    for j in range(i+1):\n",
    "        print(i + 1, end = \" \")\n",
    "    print(\"\\n\")"
   ]
  },
  {
   "cell_type": "code",
   "execution_count": 4,
   "id": "dd9d94aa",
   "metadata": {},
   "outputs": [
    {
     "name": "stdout",
     "output_type": "stream",
     "text": [
      "Enter value:5\n",
      "1 \n",
      "\n",
      "1 2 \n",
      "\n",
      "1 2 3 \n",
      "\n",
      "1 2 3 4 \n",
      "\n",
      "1 2 3 4 5 \n",
      "\n"
     ]
    }
   ],
   "source": [
    "n = int(input(\"Enter value:\"))\n",
    "\n",
    "for i in range(n):\n",
    "    for j in range(i+1):\n",
    "        print(j + 1 , end = \" \")\n",
    "    print(\"\\n\")"
   ]
  },
  {
   "cell_type": "code",
   "execution_count": 5,
   "id": "3d1118f1",
   "metadata": {},
   "outputs": [
    {
     "name": "stdout",
     "output_type": "stream",
     "text": [
      "Enter value:4\n",
      "0 0 0 0 \n",
      "\n",
      "1 1 1 1 \n",
      "\n",
      "2 2 2 2 \n",
      "\n",
      "3 3 3 3 \n",
      "\n"
     ]
    }
   ],
   "source": [
    "n = int(input(\"Enter value:\"))\n",
    "\n",
    "for i in range(n):\n",
    "    for j in range(n):\n",
    "        print(i , end = \" \")\n",
    "    print(\"\\n\")"
   ]
  },
  {
   "cell_type": "code",
   "execution_count": 6,
   "id": "0e21db66",
   "metadata": {},
   "outputs": [
    {
     "name": "stdout",
     "output_type": "stream",
     "text": [
      "Enter value: 5\n",
      "A \n",
      "\n",
      "A B \n",
      "\n",
      "A B C \n",
      "\n",
      "A B C D \n",
      "\n"
     ]
    }
   ],
   "source": [
    "n = int(input(\"Enter value: \"))\n",
    "\n",
    "for i in range(1,n):\n",
    "    for j in range(65, 65 + i):\n",
    "        print(chr(j), end = \" \")\n",
    "    print(\"\\n\")"
   ]
  },
  {
   "cell_type": "code",
   "execution_count": 7,
   "id": "1d9f631b",
   "metadata": {},
   "outputs": [
    {
     "name": "stdout",
     "output_type": "stream",
     "text": [
      "Enter row value:8\n",
      "* * * * * * * * \n",
      "*             * \n",
      "*             * \n",
      "*             * \n",
      "*             * \n",
      "*             * \n",
      "*             * \n",
      "* * * * * * * * \n"
     ]
    }
   ],
   "source": [
    "n = int(input(\"Enter row value:\"))\n",
    "\n",
    "for i in range(n):\n",
    "    for j in range(n):\n",
    "        if i == 0 or i == n-1 or j == 0 or j == n-1:\n",
    "            print(\"*\", end = \" \")\n",
    "        else:\n",
    "            print(\" \", end = \" \")\n",
    "    print()"
   ]
  },
  {
   "cell_type": "code",
   "execution_count": 8,
   "id": "77133952",
   "metadata": {},
   "outputs": [
    {
     "name": "stdout",
     "output_type": "stream",
     "text": [
      "* * * * * \n",
      "*       * \n",
      "*       * \n",
      "*       * \n",
      "* * * * * \n"
     ]
    }
   ],
   "source": [
    "for row in range(5):\n",
    "    for col in range(5):\n",
    "        if (row in (0, 4)):\n",
    "            print(\"*\", end = \" \")\n",
    "        elif (row in (1,2,3,4)) and (col in (0, 4)):\n",
    "            print(\"*\", end = \" \")\n",
    "        else:\n",
    "            print(\" \", end = \" \")\n",
    "    print()"
   ]
  },
  {
   "cell_type": "code",
   "execution_count": 11,
   "id": "9dcc7ae0",
   "metadata": {},
   "outputs": [
    {
     "name": "stdout",
     "output_type": "stream",
     "text": [
      "* * * * * \n",
      "*       * \n",
      "*   H   * \n",
      "*       * \n",
      "* * * * * \n"
     ]
    }
   ],
   "source": [
    "for row in range(5):\n",
    "    for col in range(5):\n",
    "        if (row in (0, 4)):\n",
    "            print(\"*\", end = \" \")\n",
    "        elif (row in (1,2,3,4)) and (col in (0, 4)):\n",
    "            print(\"*\", end = \" \")\n",
    "        elif (row in (0, 2)) and (col in (0, 2)):\n",
    "            print(\"H\", end = \" \")\n",
    "        else:\n",
    "            print(\" \", end = \" \")\n",
    "    print()"
   ]
  },
  {
   "cell_type": "code",
   "execution_count": 12,
   "id": "7d4c9d75",
   "metadata": {},
   "outputs": [
    {
     "name": "stdout",
     "output_type": "stream",
     "text": [
      "Enter value:5\n",
      " *  \n",
      "\n",
      " *   *  \n",
      "\n",
      " *   *   *  \n",
      "\n",
      " *   *   *   *  \n",
      "\n",
      " *   *   *   *   *  \n",
      "\n"
     ]
    }
   ],
   "source": [
    "n = int(input(\"Enter value:\"))\n",
    "\n",
    "for i in range(n):\n",
    "    for j in range(i+1):\n",
    "        print(\" * \", end = \" \")\n",
    "    print(\"\\n\")"
   ]
  },
  {
   "cell_type": "code",
   "execution_count": 13,
   "id": "eed770f1",
   "metadata": {},
   "outputs": [
    {
     "name": "stdout",
     "output_type": "stream",
     "text": [
      "Enter the value of n: 5\n",
      " *   *   *   *   *  \n",
      "\n",
      " *   *   *   *  \n",
      "\n",
      " *   *   *  \n",
      "\n",
      " *   *  \n",
      "\n",
      " *  \n",
      "\n"
     ]
    }
   ],
   "source": [
    "n = int(input(\"Enter the value of n: \"))\n",
    "\n",
    "for i in range(n, 0, -1):\n",
    "    for j in range(i):\n",
    "        print(\" * \", end = \" \")\n",
    "    print(\"\\n\")"
   ]
  },
  {
   "cell_type": "code",
   "execution_count": 14,
   "id": "d2535e5e",
   "metadata": {},
   "outputs": [
    {
     "name": "stdout",
     "output_type": "stream",
     "text": [
      " *  \n",
      "\n",
      " *   *  \n",
      "\n",
      " *   *   *  \n",
      "\n",
      " *   *   *   *  \n",
      "\n",
      " *   *   *   *   *  \n",
      "\n",
      " *   *   *   *  \n",
      "\n",
      " *   *   *  \n",
      "\n",
      " *   *  \n",
      "\n",
      " *  \n",
      "\n"
     ]
    }
   ],
   "source": [
    "for i in range(4):\n",
    "    for j in range(i+1):\n",
    "        print(\" * \", end = \" \")\n",
    "    print(\"\\n\")\n",
    "    \n",
    "for i in range(5, 0, -1):\n",
    "    for j in range(i):\n",
    "        print(\" * \", end = \" \")\n",
    "    print(\"\\n\")"
   ]
  },
  {
   "cell_type": "code",
   "execution_count": 15,
   "id": "056c2dc9",
   "metadata": {},
   "outputs": [
    {
     "name": "stdout",
     "output_type": "stream",
     "text": [
      "*             * \n",
      "*             * \n",
      "*             * \n",
      "  *         *   \n",
      "    *     *     \n",
      "      * *       \n",
      "       *          \n"
     ]
    }
   ],
   "source": [
    "for row in range(7):\n",
    "    for col in range(8):\n",
    "        if (row in (0,1,2)) and (col in (0,7)):\n",
    "            print(\"*\", end = \" \")  \n",
    "        elif (row in (3,3)) and (col in (1,6)):\n",
    "            print(\"*\", end = \" \")\n",
    "        elif (row in (4,4)) and (col in (2,5)):\n",
    "            print(\"*\", end = \" \")\n",
    "        elif (row in (5,5)) and (col in (3,4)):\n",
    "            print(\"*\", end = \" \")\n",
    "        elif (row in (6,6)) and (col in (3,3)):\n",
    "            print(\" * \", end = \" \")\n",
    "        else:\n",
    "            print(\" \", end = \" \")\n",
    "    print()"
   ]
  },
  {
   "cell_type": "code",
   "execution_count": 16,
   "id": "baf44701",
   "metadata": {},
   "outputs": [
    {
     "name": "stdout",
     "output_type": "stream",
     "text": [
      "*       * \n",
      "*       * \n",
      "* * * * * \n",
      "*       * \n",
      "*       * \n",
      "\n",
      "\n",
      "* * * * * \n",
      "    *     \n",
      "    *     \n",
      "    *     \n",
      "* * * * * \n",
      "\n",
      "\n",
      "  * * *   \n",
      "*       * \n",
      "* * * * * \n",
      "*   *     \n",
      "*     *   \n",
      "\n",
      "\n",
      "  * * *   \n",
      "*       * \n",
      "* * * * * \n",
      "*       * \n",
      "*       * \n",
      "\n",
      "\n",
      "*         \n",
      "*         \n",
      "*         \n",
      "*         \n",
      "* * * * * \n"
     ]
    }
   ],
   "source": [
    "## To print H\n",
    "for row in range(5):\n",
    "    for col in range(5):\n",
    "        if(col in (0, 4)):\n",
    "            print(\"*\", end = \" \")\n",
    "        elif (row in (2, 2)) and (col in (1,2,3, 4)):\n",
    "            print(\"*\", end = \" \")\n",
    "        else:\n",
    "            print(\" \", end = \" \")\n",
    "    print()\n",
    "print(\"\\n\")\n",
    "\n",
    "## To print I\n",
    "for row in range(5):\n",
    "    for col in range(5):\n",
    "        if (row in (0, 4)):\n",
    "            print(\"*\", end = \" \")\n",
    "        elif (row in (1,2,3,4)) and (col in (2, 2)):\n",
    "            print(\"*\", end = \" \")\n",
    "        else:\n",
    "            print(\" \", end = \" \")\n",
    "    print()\n",
    "print(\"\\n\")\n",
    "\n",
    "## To print R\n",
    "for row in range(5):\n",
    "    for col in range(5):\n",
    "        if (row in (2, 2)):\n",
    "            print(\"*\", end = \" \")\n",
    "        elif(row in (0, 2)) and (col in (1,2,3)):\n",
    "            print(\"*\", end = \" \")\n",
    "        elif (row in (1,2)) and (col in (0,4)):\n",
    "            print(\"*\", end = \" \")\n",
    "        elif (row in (3, 3)) and (col in (0, 2)):\n",
    "            print(\"*\", end = \" \")\n",
    "        elif (row in (4, 4)) and (col in (0, 3)):\n",
    "            print(\"*\", end = \" \")\n",
    "        else:\n",
    "            print(\" \", end = \" \")\n",
    "    print()\n",
    "print(\"\\n\")\n",
    "\n",
    "\n",
    "## To print A\n",
    "for row in range(5):\n",
    "    for col in range(5):\n",
    "        if (row in (2, 2)):\n",
    "            print(\"*\", end = \" \")\n",
    "        elif (row in (0, 0)) and (col in (0, 4)):\n",
    "            print(\" \", end = \" \")\n",
    "        elif(row in (0, 2)) and (col in (1,2,3)):\n",
    "            print(\"*\", end = \" \")\n",
    "        elif (row in (1,2,3,4)) and (col in (0, 4)):\n",
    "            print(\"*\", end = \" \")\n",
    "        else:\n",
    "            print(\" \", end = \" \")\n",
    "    print()\n",
    "print(\"\\n\")\n",
    "\n",
    "## To  print L\n",
    "for row in range(5):\n",
    "    for col in range(5):\n",
    "        if (row in (4, 4)):\n",
    "            print(\"*\", end = \" \")\n",
    "        elif (row in (0,1,2,3)) and (col in (0, 0)):\n",
    "            print(\"*\", end = \" \")\n",
    "        else:\n",
    "            print(\" \", end = \" \")\n",
    "    print()"
   ]
  },
  {
   "cell_type": "code",
   "execution_count": null,
   "id": "7454b1b8",
   "metadata": {},
   "outputs": [],
   "source": []
  },
  {
   "cell_type": "code",
   "execution_count": null,
   "id": "9d101681",
   "metadata": {},
   "outputs": [],
   "source": []
  }
 ],
 "metadata": {
  "kernelspec": {
   "display_name": "Python 3 (ipykernel)",
   "language": "python",
   "name": "python3"
  },
  "language_info": {
   "codemirror_mode": {
    "name": "ipython",
    "version": 3
   },
   "file_extension": ".py",
   "mimetype": "text/x-python",
   "name": "python",
   "nbconvert_exporter": "python",
   "pygments_lexer": "ipython3",
   "version": "3.11.5"
  }
 },
 "nbformat": 4,
 "nbformat_minor": 5
}
